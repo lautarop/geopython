{
 "cells": [
  {
   "cell_type": "markdown",
   "metadata": {},
   "source": [
    "# Programación Orientada a Objetos"
   ]
  },
  {
   "cell_type": "markdown",
   "metadata": {},
   "source": [
    "La [Programación Orientada a Objetos (POO)](https://en.wikipedia.org/wiki/Object-oriented_programming) es un [paradigma de programación](https://en.wikipedia.org/wiki/Programming_paradigm) basado en el concepto de **objeto**. En el contexto de la POO, los objetos son entidades que poseen:\n",
    "- *Estado*: implementado con un conjunto de variables llamadas **propiedades**.\n",
    "- *Comportamiento*: implementado con un conjunto de funciones llamadas **métodos**.\n",
    "\n",
    "Los objetos se agrupan en **[clases](https://docs.python.org/3/tutorial/classes.html)**. Todos los objetos de una clase contienen los mismos métodos y propiedades. Una clase puede verse como una plantilla a partir de la cual se crean objetos. A un objeto creado a partir de una clase se le llama también una **instancia** de esa clase."
   ]
  },
  {
   "cell_type": "code",
   "execution_count": 2,
   "metadata": {},
   "outputs": [],
   "source": [
    "# Definición de la clase Mapa\n",
    "class Mapa:\n",
    "\n",
    "    # Constructor de la clase: crea nuevas instancias e inicializa las propiedades de instancia\n",
    "    def __init__(self, nombre, coordenadas):\n",
    "        self.nombre = nombre\n",
    "        self.coordenadas = coordenadas\n",
    "\n",
    "        # Método para imprimir información\n",
    "    def imprimirInformacion(self):\n",
    "        print(\"Mapa {} en coordenadas {}\".format(self.nombre, str(self.coordenadas)))"
   ]
  },
  {
   "cell_type": "markdown",
   "metadata": {},
   "source": [
    "Una vez definida una clase, pueden declararse objetos o instancias de esta. Las instancias pueden invocar métodos de la clase mediante la notación:\n",
    "\n",
    "```python\n",
    "    <instancia>.<método>(<parámetros>)\n",
    "``` \n",
    "El resultado de esta sentencia retornará un objeto sobre el que posiblemente querramos ejecutar otro método, creando así una cadena de llamadas.\n",
    "\n",
    "```python\n",
    "    <instancia>.<método>(<parámetros>).<método>(<parámetros>).<método>(<parámetros>)....\n",
    "```\n"
   ]
  }
 ],
 "metadata": {
  "kernelspec": {
   "display_name": "Python 3 (ipykernel)",
   "language": "python",
   "name": "python3"
  },
  "language_info": {
   "codemirror_mode": {
    "name": "ipython",
    "version": 3
   },
   "file_extension": ".py",
   "mimetype": "text/x-python",
   "name": "python",
   "nbconvert_exporter": "python",
   "pygments_lexer": "ipython3",
   "version": "3.11.2"
  }
 },
 "nbformat": 4,
 "nbformat_minor": 4
}

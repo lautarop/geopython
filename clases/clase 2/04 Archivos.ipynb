{
 "cells": [
  {
   "cell_type": "markdown",
   "id": "b763e292-1b41-44f0-bf14-48c188209b99",
   "metadata": {},
   "source": [
    "# Archivos\n",
    "\n",
    "Siendo una de las tareas más usuales que se realizan, Python incorpora gran cantidad de funciones para leer y escribir archivos.\n",
    "\n",
    "## Leer archivos\n",
    "\n",
    "Para leer un archivo, debemos previamente saber su ubicación en el disco (el *path* o dirección del archivo). Python dispone de un módulo llamado `os` que ayuda a tratar con el sistema operativo. Y también incorpora a `pathlib` que es una librería que permite trabajar con direcciones independientes del sistema operativo que usemos. Esto permite que el mismo script funcione en sistemas operativos diferentes sin necesidad de ser cambiado. "
   ]
  },
  {
   "cell_type": "code",
   "execution_count": 1,
   "id": "709811e2-087b-4064-be71-2b8377f7fa4b",
   "metadata": {},
   "outputs": [],
   "source": [
    "import os"
   ]
  },
  {
   "cell_type": "markdown",
   "id": "ea1a35ca-69bc-44a5-908a-f03b2db601bc",
   "metadata": {},
   "source": [
    "Para abrir un archivo necesitamos el *path* del archivo. Abriremos el archivo `worldcities.csv` localizado en la carpeta de datos adjuntos."
   ]
  },
  {
   "cell_type": "code",
   "execution_count": 2,
   "id": "ca73515c-cd6f-4491-976b-6407d0f5f807",
   "metadata": {},
   "outputs": [
    {
     "name": "stdout",
     "output_type": "stream",
     "text": [
      "data/worldcities.csv\n"
     ]
    }
   ],
   "source": [
    "data_pkg_path = 'data'\n",
    "filename = 'worldcities.csv'\n",
    "path = os.path.join(data_pkg_path, filename)\n",
    "print(path)"
   ]
  },
  {
   "cell_type": "markdown",
   "id": "c7c2d16e-5a1b-4ebd-9a6a-5685dd9abf05",
   "metadata": {},
   "source": [
    "Para abrir el archivo, utilizamos la función `open()`. Especificamos el modo como `r` que significa que lo abriremos en \"solo-lectura\". Si quisiéramos modificar su contenido, deberíamos indicar el modo `w`.\n",
    "\n",
    "Nuestro archivo también contiene caracteres [Unicode](https://es.wikipedia.org/wiki/Unicode), así que especificaremos `UTF-8`como la codificación.\n",
    "\n",
    "La función `open()` retorna un objeto archivo.  Podemos entonces llamar al método `readline()` para leer el contenido, de a una línea por vez.\n",
    "\n",
    "Es una buena práctica cerrar siempre el archivo una vez que hayamos finalizado su uso. Para cerrar el archivo deberemos llamar al método `close()`del archivo."
   ]
  },
  {
   "cell_type": "code",
   "execution_count": null,
   "id": "7de6c558-bd0b-4967-bb88-fde1e713b5e9",
   "metadata": {},
   "outputs": [],
   "source": [
    "f = open(path, 'r', encoding='utf-8')\n",
    "print(f.readline())\n",
    "print(f.readline())\n",
    "f.close()"
   ]
  },
  {
   "cell_type": "markdown",
   "id": "fc0a15b7-96fc-4caa-a422-22c5c6b7e3ae",
   "metadata": {},
   "source": [
    "Los archivos son estructuras de datos *iterables*, por lo que la manera más simple de recorrerlos es utilizando una sentencia `for`."
   ]
  },
  {
   "cell_type": "code",
   "execution_count": 3,
   "id": "05ad7c72-6af4-4c2f-9385-36eed0054871",
   "metadata": {},
   "outputs": [
    {
     "ename": "FileNotFoundError",
     "evalue": "[Errno 2] No such file or directory: 'data/worldcities.csv'",
     "output_type": "error",
     "traceback": [
      "\u001b[0;31m---------------------------------------------------------------------------\u001b[0m",
      "\u001b[0;31mFileNotFoundError\u001b[0m                         Traceback (most recent call last)",
      "Cell \u001b[0;32mIn[3], line 3\u001b[0m\n\u001b[1;32m      1\u001b[0m \u001b[38;5;66;03m# ¿Qué hace este código?\u001b[39;00m\n\u001b[0;32m----> 3\u001b[0m f \u001b[38;5;241m=\u001b[39m \u001b[38;5;28;43mopen\u001b[39;49m\u001b[43m(\u001b[49m\u001b[43mpath\u001b[49m\u001b[43m,\u001b[49m\u001b[43m \u001b[49m\u001b[38;5;124;43m'\u001b[39;49m\u001b[38;5;124;43mr\u001b[39;49m\u001b[38;5;124;43m'\u001b[39;49m\u001b[43m,\u001b[49m\u001b[43m \u001b[49m\u001b[43mencoding\u001b[49m\u001b[38;5;241;43m=\u001b[39;49m\u001b[38;5;124;43m'\u001b[39;49m\u001b[38;5;124;43mutf-8\u001b[39;49m\u001b[38;5;124;43m'\u001b[39;49m\u001b[43m)\u001b[49m\n\u001b[1;32m      4\u001b[0m count \u001b[38;5;241m=\u001b[39m \u001b[38;5;241m0\u001b[39m\n\u001b[1;32m      5\u001b[0m \u001b[38;5;28;01mfor\u001b[39;00m line \u001b[38;5;129;01min\u001b[39;00m f:\n",
      "File \u001b[0;32m~/.local/share/virtualenvs/lautaro-lZM-IVFM/lib/python3.12/site-packages/IPython/core/interactiveshell.py:324\u001b[0m, in \u001b[0;36m_modified_open\u001b[0;34m(file, *args, **kwargs)\u001b[0m\n\u001b[1;32m    317\u001b[0m \u001b[38;5;28;01mif\u001b[39;00m file \u001b[38;5;129;01min\u001b[39;00m {\u001b[38;5;241m0\u001b[39m, \u001b[38;5;241m1\u001b[39m, \u001b[38;5;241m2\u001b[39m}:\n\u001b[1;32m    318\u001b[0m     \u001b[38;5;28;01mraise\u001b[39;00m \u001b[38;5;167;01mValueError\u001b[39;00m(\n\u001b[1;32m    319\u001b[0m         \u001b[38;5;124mf\u001b[39m\u001b[38;5;124m\"\u001b[39m\u001b[38;5;124mIPython won\u001b[39m\u001b[38;5;124m'\u001b[39m\u001b[38;5;124mt let you open fd=\u001b[39m\u001b[38;5;132;01m{\u001b[39;00mfile\u001b[38;5;132;01m}\u001b[39;00m\u001b[38;5;124m by default \u001b[39m\u001b[38;5;124m\"\u001b[39m\n\u001b[1;32m    320\u001b[0m         \u001b[38;5;124m\"\u001b[39m\u001b[38;5;124mas it is likely to crash IPython. If you know what you are doing, \u001b[39m\u001b[38;5;124m\"\u001b[39m\n\u001b[1;32m    321\u001b[0m         \u001b[38;5;124m\"\u001b[39m\u001b[38;5;124myou can use builtins\u001b[39m\u001b[38;5;124m'\u001b[39m\u001b[38;5;124m open.\u001b[39m\u001b[38;5;124m\"\u001b[39m\n\u001b[1;32m    322\u001b[0m     )\n\u001b[0;32m--> 324\u001b[0m \u001b[38;5;28;01mreturn\u001b[39;00m \u001b[43mio_open\u001b[49m\u001b[43m(\u001b[49m\u001b[43mfile\u001b[49m\u001b[43m,\u001b[49m\u001b[43m \u001b[49m\u001b[38;5;241;43m*\u001b[39;49m\u001b[43margs\u001b[49m\u001b[43m,\u001b[49m\u001b[43m \u001b[49m\u001b[38;5;241;43m*\u001b[39;49m\u001b[38;5;241;43m*\u001b[39;49m\u001b[43mkwargs\u001b[49m\u001b[43m)\u001b[49m\n",
      "\u001b[0;31mFileNotFoundError\u001b[0m: [Errno 2] No such file or directory: 'data/worldcities.csv'"
     ]
    }
   ],
   "source": [
    "# ¿Qué hace este código?\n",
    "\n",
    "f = open(path, 'r', encoding='utf-8')\n",
    "count = 0\n",
    "for line in f:\n",
    "    count += 1\n",
    "f.close()\n",
    "print(count)"
   ]
  },
  {
   "cell_type": "markdown",
   "id": "37b86d2e-b69e-431f-9833-7c6dddc682ed",
   "metadata": {},
   "source": [
    "## Ejercicio\n",
    "Imprimir las primeras 5 líneas de un archivo. Como ayuda, la sentencia `break` puede facilitar las cosas.\n",
    "\n",
    "Comenzar con"
   ]
  },
  {
   "cell_type": "code",
   "execution_count": 4,
   "id": "5f979522-f298-4cba-9b7a-67a47839da8f",
   "metadata": {},
   "outputs": [],
   "source": [
    "import os\n",
    "data_pkg_path = 'data'\n",
    "filename = 'worldcities.csv'\n",
    "path = os.path.join(data_pkg_path, filename)\n",
    "\n",
    "# Agregar lo que falta a partir de acá"
   ]
  },
  {
   "cell_type": "markdown",
   "id": "8b756679-dbe7-4e33-8909-2d28964da40b",
   "metadata": {},
   "source": [
    "## La sentencia `with`\n",
    "\n",
    "Como abrir y cerrar archivos usualmente son acciones que vienen \"juntas\", Python provee una facilidad para delegar esa parte y enfocarnos en trabajar con el contenido del archivo. La sentencia `with` existe para recursos que deben ser liberados luego de usarse. El código del ejemplo anterior con `with` se ve de esta manera\n",
    "\n"
   ]
  },
  {
   "cell_type": "code",
   "execution_count": 5,
   "id": "8a88c215-13c9-4dca-95bb-f3de4579a34f",
   "metadata": {},
   "outputs": [
    {
     "ename": "FileNotFoundError",
     "evalue": "[Errno 2] No such file or directory: 'data/worldcities.csv'",
     "output_type": "error",
     "traceback": [
      "\u001b[0;31m---------------------------------------------------------------------------\u001b[0m",
      "\u001b[0;31mFileNotFoundError\u001b[0m                         Traceback (most recent call last)",
      "Cell \u001b[0;32mIn[5], line 1\u001b[0m\n\u001b[0;32m----> 1\u001b[0m \u001b[38;5;28;01mwith\u001b[39;00m \u001b[38;5;28;43mopen\u001b[39;49m\u001b[43m(\u001b[49m\u001b[43mpath\u001b[49m\u001b[43m,\u001b[49m\u001b[43m \u001b[49m\u001b[38;5;124;43m'\u001b[39;49m\u001b[38;5;124;43mr\u001b[39;49m\u001b[38;5;124;43m'\u001b[39;49m\u001b[43m,\u001b[49m\u001b[43m \u001b[49m\u001b[43mencoding\u001b[49m\u001b[38;5;241;43m=\u001b[39;49m\u001b[38;5;124;43m'\u001b[39;49m\u001b[38;5;124;43mutf-8\u001b[39;49m\u001b[38;5;124;43m'\u001b[39;49m\u001b[43m)\u001b[49m \u001b[38;5;28;01mas\u001b[39;00m f:\n\u001b[1;32m      2\u001b[0m     count \u001b[38;5;241m=\u001b[39m \u001b[38;5;241m0\u001b[39m\n\u001b[1;32m      3\u001b[0m     \u001b[38;5;28;01mfor\u001b[39;00m line \u001b[38;5;129;01min\u001b[39;00m f:\n",
      "File \u001b[0;32m~/.local/share/virtualenvs/lautaro-lZM-IVFM/lib/python3.12/site-packages/IPython/core/interactiveshell.py:324\u001b[0m, in \u001b[0;36m_modified_open\u001b[0;34m(file, *args, **kwargs)\u001b[0m\n\u001b[1;32m    317\u001b[0m \u001b[38;5;28;01mif\u001b[39;00m file \u001b[38;5;129;01min\u001b[39;00m {\u001b[38;5;241m0\u001b[39m, \u001b[38;5;241m1\u001b[39m, \u001b[38;5;241m2\u001b[39m}:\n\u001b[1;32m    318\u001b[0m     \u001b[38;5;28;01mraise\u001b[39;00m \u001b[38;5;167;01mValueError\u001b[39;00m(\n\u001b[1;32m    319\u001b[0m         \u001b[38;5;124mf\u001b[39m\u001b[38;5;124m\"\u001b[39m\u001b[38;5;124mIPython won\u001b[39m\u001b[38;5;124m'\u001b[39m\u001b[38;5;124mt let you open fd=\u001b[39m\u001b[38;5;132;01m{\u001b[39;00mfile\u001b[38;5;132;01m}\u001b[39;00m\u001b[38;5;124m by default \u001b[39m\u001b[38;5;124m\"\u001b[39m\n\u001b[1;32m    320\u001b[0m         \u001b[38;5;124m\"\u001b[39m\u001b[38;5;124mas it is likely to crash IPython. If you know what you are doing, \u001b[39m\u001b[38;5;124m\"\u001b[39m\n\u001b[1;32m    321\u001b[0m         \u001b[38;5;124m\"\u001b[39m\u001b[38;5;124myou can use builtins\u001b[39m\u001b[38;5;124m'\u001b[39m\u001b[38;5;124m open.\u001b[39m\u001b[38;5;124m\"\u001b[39m\n\u001b[1;32m    322\u001b[0m     )\n\u001b[0;32m--> 324\u001b[0m \u001b[38;5;28;01mreturn\u001b[39;00m \u001b[43mio_open\u001b[49m\u001b[43m(\u001b[49m\u001b[43mfile\u001b[49m\u001b[43m,\u001b[49m\u001b[43m \u001b[49m\u001b[38;5;241;43m*\u001b[39;49m\u001b[43margs\u001b[49m\u001b[43m,\u001b[49m\u001b[43m \u001b[49m\u001b[38;5;241;43m*\u001b[39;49m\u001b[38;5;241;43m*\u001b[39;49m\u001b[43mkwargs\u001b[49m\u001b[43m)\u001b[49m\n",
      "\u001b[0;31mFileNotFoundError\u001b[0m: [Errno 2] No such file or directory: 'data/worldcities.csv'"
     ]
    }
   ],
   "source": [
    "with open(path, 'r', encoding='utf-8') as f:\n",
    "    count = 0\n",
    "    for line in f:\n",
    "        count += 1\n",
    "print(count)"
   ]
  }
 ],
 "metadata": {
  "kernelspec": {
   "display_name": "Python 3 (ipykernel)",
   "language": "python",
   "name": "python3"
  },
  "language_info": {
   "codemirror_mode": {
    "name": "ipython",
    "version": 3
   },
   "file_extension": ".py",
   "mimetype": "text/x-python",
   "name": "python",
   "nbconvert_exporter": "python",
   "pygments_lexer": "ipython3",
   "version": "3.12.3"
  }
 },
 "nbformat": 4,
 "nbformat_minor": 5
}

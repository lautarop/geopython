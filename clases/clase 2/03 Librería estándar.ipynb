{
 "cells": [
  {
   "cell_type": "markdown",
   "id": "08c31886-190c-46f7-95eb-2910351b47a9",
   "metadata": {},
   "source": [
    "# La biblioteca estándar\n",
    "\n",
    "Se dice que Python viene con \"pilas incluídas\". Es decir, que es posible usarlo para muchas cosas sin necesidad de instalar nada maś, ya que provee en su instalación muchas bibliotecas para diferentes aplicaciones.\n",
    "\n",
    "Una **biblioteca** consiste en muchos **módulos**. Cada módulo está formado por uno o más scripts que se agrupan bajo determinada funcionalidad o propósito (por ej. operaciones matemáticas, leer emails, generar gráficos...). Es una manera de manejar la complejidad del código fuente cuando este crece lo suficientemente grande como para ser difícil de trabajar por una persona. Es decir, al \"partir\" un script grande en módulos, lo volvemos más fácil de trabajar, porque cada parte es más pequeña y por tanto más fácil de leer, comprender y mejorar (si es necesario). \n",
    "\n",
    "Las bibliotecas se agregan a nuestro programa mediante la palabra clave `import`. Una vez realizada la importación, podemos utilizar el contenido de esa biblioteca/módulo en nuestro programa.\n",
    "\n",
    "Vamos a ver algunas de las más útiles para nosotros."
   ]
  },
  {
   "cell_type": "markdown",
   "id": "6e97af2a-66f4-4e1e-8a0d-710cb6078ced",
   "metadata": {},
   "source": [
    "## El módulo `math`\n",
    "\n",
    "Este módulo agrupa funciones matemáticas más complejas que las aritméticas que incluye por defecto el lenguaje, por ejemplo funciones trigonométricas, logarítmicas, combinatorias y otras."
   ]
  },
  {
   "cell_type": "code",
   "execution_count": 3,
   "id": "d4dfdd62-259f-4d9e-899b-1257866e25e4",
   "metadata": {},
   "outputs": [
    {
     "name": "stdout",
     "output_type": "stream",
     "text": [
      "3.141592653589793\n"
     ]
    }
   ],
   "source": [
    "import math\n",
    "\n",
    "print(math.pi)"
   ]
  },
  {
   "cell_type": "markdown",
   "id": "b6543cb4-aa33-4aa8-b575-0cd37200dbdb",
   "metadata": {},
   "source": [
    "### Ejemplo: distancia entre dos puntos en la sup. terrestre\n",
    "\n",
    "Vamos a implementar la [fórmula del semiverseno](https://es.wikipedia.org/wiki/F%C3%B3rmula_del_semiverseno) para calcular la distancia entre dos puntos de la superficie terrestre."
   ]
  },
  {
   "cell_type": "code",
   "execution_count": 22,
   "id": "7d9ba8ec-0f5b-4ad4-bdba-6720f8388175",
   "metadata": {},
   "outputs": [
    {
     "name": "stdout",
     "output_type": "stream",
     "text": [
      "La distancia entre San Francisco y Nueva York es de 4126.47 km.\n",
      "La distancia entre Nueva York y Buenos Aires es de 8520.34 km.\n",
      "La distancia entre Taipei y Buenos Aires es de 18944.11 km.\n"
     ]
    }
   ],
   "source": [
    "# Definimos las coordenadas de dos ciudades\n",
    "san_francisco = (37.7749, -122.4194)\n",
    "new_york = (40.7142, -74.0059)\n",
    "buenos_aires = (-34.6075,-58.4370)\n",
    "taipei = (25.0830,121.5533)\n",
    "\n",
    "def haversine(angle):\n",
    "    return math.sin(angle/2)**2\n",
    "\n",
    "def haversine_distance(origin, destination):\n",
    "    \"\"\"\n",
    "    Retorna la distancia entre dos puntos de la sup. terrestre en kilómetros.\n",
    "    Asume Tierra \"esférica\".\n",
    "    Ver https://www.movable-type.co.uk/scripts/gis-faq-5.1.html\n",
    "    \"\"\"\n",
    "    # nombramos todos los datos que necesitamos\n",
    "    lat1, lon1 = origin\n",
    "    lat2, lon2 = destination\n",
    "    # las funciones trigonométricas de Python trabajan con radianes. Es necesario\n",
    "    # transformar las coordenadas antes de usarlas\n",
    "    dlat = math.radians(lat2-lat1)\n",
    "    dlon = math.radians(lon2-lon1)\n",
    "    lat1 = math.radians(lat1)\n",
    "    lat2 = math.radians(lat2)\n",
    "    # la fórmula en sí\n",
    "    R = 6367 # radio terrestre en kilómetros\n",
    "    a = haversine(dlat) + math.cos(lat1) * math.cos(lat2) * haversine(dlon)\n",
    "    c = 2 * math.asin(min(1,math.sqrt(a)))\n",
    "    distance = R * c\n",
    "    return distance\n",
    "\n",
    "print(\"La distancia entre {} y {} es de {:.2f} km.\".format(\"San Francisco\", \"Nueva York\", haversine_distance(san_francisco, new_york)))\n",
    "print(\"La distancia entre {} y {} es de {:.2f} km.\".format(\"Nueva York\", \"Buenos Aires\", haversine_distance(new_york, buenos_aires)))\n",
    "print(\"La distancia entre {} y {} es de {:.2f} km.\".format(\"Taipei\", \"Buenos Aires\", haversine_distance(taipei, buenos_aires)))"
   ]
  },
  {
   "cell_type": "code",
   "execution_count": 26,
   "id": "ce1567ab-3814-42a3-b022-945942075361",
   "metadata": {},
   "outputs": [
    {
     "ename": "ModuleNotFoundError",
     "evalue": "No module named 'geopy'",
     "output_type": "error",
     "traceback": [
      "\u001b[0;31m---------------------------------------------------------------------------\u001b[0m",
      "\u001b[0;31mModuleNotFoundError\u001b[0m                       Traceback (most recent call last)",
      "Cell \u001b[0;32mIn[26], line 1\u001b[0m\n\u001b[0;32m----> 1\u001b[0m \u001b[38;5;28;01mfrom\u001b[39;00m \u001b[38;5;21;01mgeopy\u001b[39;00m \u001b[38;5;28;01mimport\u001b[39;00m distance\n\u001b[1;32m      3\u001b[0m straight_line_distance \u001b[38;5;241m=\u001b[39m distance\u001b[38;5;241m.\u001b[39mgreat_circle(san_francisco, new_york)\n\u001b[1;32m      4\u001b[0m ellipsoid_distance \u001b[38;5;241m=\u001b[39m distance\u001b[38;5;241m.\u001b[39mgeodesic(san_francisco, new_york, ellipsoid\u001b[38;5;241m=\u001b[39m\u001b[38;5;124m'\u001b[39m\u001b[38;5;124mWGS-84\u001b[39m\u001b[38;5;124m'\u001b[39m)\n",
      "\u001b[0;31mModuleNotFoundError\u001b[0m: No module named 'geopy'"
     ]
    }
   ],
   "source": [
    "from geopy import distance\n",
    "\n",
    "straight_line_distance = distance.great_circle(san_francisco, new_york)\n",
    "ellipsoid_distance = distance.geodesic(san_francisco, new_york, ellipsoid='WGS-84')\n",
    "\n",
    "print(straight_line_distance, ellipsoid_distance)"
   ]
  },
  {
   "cell_type": "code",
   "execution_count": 29,
   "id": "3e456a82-477f-4b53-b21c-fb742b412205",
   "metadata": {
    "editable": true,
    "slideshow": {
     "slide_type": ""
    },
    "tags": []
   },
   "outputs": [
    {
     "name": "stdout",
     "output_type": "stream",
     "text": [
      "['/home/lautaro/.rye/py/cpython@3.12.3/lib/python312.zip', '/home/lautaro/.rye/py/cpython@3.12.3/lib/python3.12', '/home/lautaro/.rye/py/cpython@3.12.3/lib/python3.12/lib-dynload', '', '/home/lautaro/.local/share/pipx/venvs/jupyter/lib/python3.12/site-packages', '/home/lautaro/.local/share/pipx/shared/lib/python3.12/site-packages']\n"
     ]
    }
   ],
   "source": [
    "import sys\n",
    "print(sys.path)"
   ]
  }
 ],
 "metadata": {
  "kernelspec": {
   "display_name": "Python 3 (ipykernel)",
   "language": "python",
   "name": "python3"
  },
  "language_info": {
   "codemirror_mode": {
    "name": "ipython",
    "version": 3
   },
   "file_extension": ".py",
   "mimetype": "text/x-python",
   "name": "python",
   "nbconvert_exporter": "python",
   "pygments_lexer": "ipython3",
   "version": "3.12.3"
  }
 },
 "nbformat": 4,
 "nbformat_minor": 5
}

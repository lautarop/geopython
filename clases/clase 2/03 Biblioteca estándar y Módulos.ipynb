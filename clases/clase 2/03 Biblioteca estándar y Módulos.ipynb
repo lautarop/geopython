{
 "cells": [
  {
   "cell_type": "markdown",
   "id": "08c31886-190c-46f7-95eb-2910351b47a9",
   "metadata": {},
   "source": [
    "# La biblioteca estándar\n",
    "\n",
    "Se dice que Python viene con \"pilas incluídas\". Es decir, que es posible usarlo para muchas cosas sin necesidad de instalar nada maś, ya que provee en su instalación muchas bibliotecas para diferentes aplicaciones.\n",
    "\n",
    "Una **biblioteca** consiste en muchos **módulos**. Cada módulo está formado por uno o más scripts que se agrupan bajo determinada funcionalidad o propósito (por ej. operaciones matemáticas, leer emails, generar gráficos...). Es una manera de manejar la complejidad del código fuente cuando este crece lo suficientemente grande como para ser difícil de trabajar por una persona. Es decir, al \"partir\" un script grande en módulos, lo volvemos más fácil de trabajar, porque cada parte es más pequeña y por tanto más fácil de leer, comprender y mejorar (si es necesario). \n",
    "\n",
    "Las bibliotecas se agregan a nuestro programa mediante la palabra clave `import`. Una vez realizada la importación, podemos utilizar el contenido de esa biblioteca/módulo en nuestro programa."
   ]
  },
  {
   "cell_type": "markdown",
   "id": "6e97af2a-66f4-4e1e-8a0d-710cb6078ced",
   "metadata": {},
   "source": [
    "## El módulo `math`\n",
    "\n",
    "Este módulo agrupa funciones matemáticas más complejas que las aritméticas que incluye por defecto el lenguaje, por ejemplo funciones trigonométricas, logarítmicas, combinatorias y otras."
   ]
  },
  {
   "cell_type": "code",
   "execution_count": 3,
   "id": "d4dfdd62-259f-4d9e-899b-1257866e25e4",
   "metadata": {},
   "outputs": [
    {
     "name": "stdout",
     "output_type": "stream",
     "text": [
      "3.141592653589793\n"
     ]
    }
   ],
   "source": [
    "import math\n",
    "\n",
    "print(math.pi)"
   ]
  },
  {
   "cell_type": "markdown",
   "id": "b6543cb4-aa33-4aa8-b575-0cd37200dbdb",
   "metadata": {},
   "source": [
    "### Ejemplo: distancia entre dos puntos en la sup. terrestre\n",
    "\n",
    "Vamos a implementar la [fórmula del semiverseno](https://es.wikipedia.org/wiki/F%C3%B3rmula_del_semiverseno) para calcular la distancia entre dos puntos de la superficie terrestre."
   ]
  },
  {
   "cell_type": "code",
   "execution_count": 4,
   "id": "7d9ba8ec-0f5b-4ad4-bdba-6720f8388175",
   "metadata": {},
   "outputs": [
    {
     "name": "stdout",
     "output_type": "stream",
     "text": [
      "La distancia entre San Francisco y Nueva York es de 4126.47 km.\n",
      "La distancia entre Nueva York y Buenos Aires es de 8520.34 km.\n",
      "La distancia entre Taipei y Buenos Aires es de 18944.11 km.\n"
     ]
    }
   ],
   "source": [
    "# Definimos las coordenadas de dos ciudades\n",
    "san_francisco = (37.7749, -122.4194)\n",
    "new_york = (40.7142, -74.0059)\n",
    "buenos_aires = (-34.6075,-58.4370)\n",
    "taipei = (25.0830,121.5533)\n",
    "\n",
    "def haversine(angle):\n",
    "    return math.sin(angle/2)**2\n",
    "\n",
    "def haversine_distance(origin, destination):\n",
    "    \"\"\"\n",
    "    Retorna la distancia entre dos puntos de la sup. terrestre en kilómetros.\n",
    "    Asume Tierra \"esférica\".\n",
    "    Ver https://www.movable-type.co.uk/scripts/gis-faq-5.1.html\n",
    "    \"\"\"\n",
    "    # nombramos todos los datos que necesitamos\n",
    "    lat1, lon1 = origin\n",
    "    lat2, lon2 = destination\n",
    "    # las funciones trigonométricas de Python trabajan con radianes. Es necesario\n",
    "    # transformar las coordenadas antes de usarlas\n",
    "    dlat = math.radians(lat2-lat1)\n",
    "    dlon = math.radians(lon2-lon1)\n",
    "    lat1 = math.radians(lat1)\n",
    "    lat2 = math.radians(lat2)\n",
    "    # la fórmula en sí\n",
    "    R = 6367 # radio terrestre en kilómetros\n",
    "    a = haversine(dlat) + math.cos(lat1) * math.cos(lat2) * haversine(dlon)\n",
    "    c = 2 * math.asin(min(1,math.sqrt(a)))\n",
    "    distance = R * c\n",
    "    return distance\n",
    "\n",
    "print(\"La distancia entre {} y {} es de {:.2f} km.\".format(\"San Francisco\", \"Nueva York\", haversine_distance(san_francisco, new_york)))\n",
    "print(\"La distancia entre {} y {} es de {:.2f} km.\".format(\"Nueva York\", \"Buenos Aires\", haversine_distance(new_york, buenos_aires)))\n",
    "print(\"La distancia entre {} y {} es de {:.2f} km.\".format(\"Taipei\", \"Buenos Aires\", haversine_distance(taipei, buenos_aires)))"
   ]
  },
  {
   "cell_type": "markdown",
   "id": "a906aa3f-40f3-41dd-a402-e7347a2fe828",
   "metadata": {},
   "source": [
    "# Módulos de terceros y Paquetes"
   ]
  },
  {
   "cell_type": "markdown",
   "id": "5bac073c-d917-4245-8b2a-245a8313f2b8",
   "metadata": {},
   "source": [
    "Hay cientos de miles de módulos de Python disponibles para su uso de manera gratuita. La mayoría están disponibles en el repositorio central de Python llamado PyPI (*Python Package Index*). \n",
    "\n",
    "Para instalar un módulo, Python incluye una herramienta llamada `pip`, que podemos correr del siguiente modo en una terminal:\n",
    "\n",
    "```shell\n",
    "pip install <nombre del paquete>\n",
    "```"
   ]
  },
  {
   "cell_type": "markdown",
   "id": "63cc6520-9423-4fb7-ad25-a4f3aa48035a",
   "metadata": {},
   "source": [
    "Por ejemplo, el paquete `geopy` es un cliente para diferentes servicios de *geocoding*. Pero además, permite calcular distancias geodésicas, y es eso lo que nos interesa en este momento. Así que procederemos a instalar el paquete de esta manera:\n",
    "\n",
    "```sh\n",
    "pip install geopy\n",
    "```\n",
    "\n",
    "Y ya estamos listos para usarlo en nuestro programa"
   ]
  },
  {
   "cell_type": "code",
   "execution_count": 5,
   "id": "ce1567ab-3814-42a3-b022-945942075361",
   "metadata": {},
   "outputs": [
    {
     "name": "stdout",
     "output_type": "stream",
     "text": [
      "4129.068766679726 km 4139.122250208994 km\n"
     ]
    }
   ],
   "source": [
    "from geopy import distance\n",
    "\n",
    "straight_line_distance = distance.great_circle(san_francisco, new_york)\n",
    "ellipsoid_distance = distance.geodesic(san_francisco, new_york, ellipsoid='WGS-84')\n",
    "\n",
    "print(straight_line_distance, ellipsoid_distance)"
   ]
  },
  {
   "cell_type": "markdown",
   "id": "d1cdea04-b763-4e87-aaa5-675658bec081",
   "metadata": {},
   "source": [
    "## Ejercicios\n",
    "\n",
    "### Instalar un paquete\n",
    "En https://github.com/sacridini/Awesome-Geospatial/blob/master/README.md#python podemos encontrar una lista de paquetes de Python asociados con SIG. Intenten instalar alguno siguiendo las instrucciones previas.\n"
   ]
  }
 ],
 "metadata": {
  "kernelspec": {
   "display_name": "Python 3 (ipykernel)",
   "language": "python",
   "name": "python3"
  },
  "language_info": {
   "codemirror_mode": {
    "name": "ipython",
    "version": 3
   },
   "file_extension": ".py",
   "mimetype": "text/x-python",
   "name": "python",
   "nbconvert_exporter": "python",
   "pygments_lexer": "ipython3",
   "version": "3.12.3"
  }
 },
 "nbformat": 4,
 "nbformat_minor": 5
}

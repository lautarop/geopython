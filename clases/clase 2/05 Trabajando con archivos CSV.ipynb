{
 "cells": [
  {
   "cell_type": "code",
   "execution_count": 1,
   "metadata": {
    "id": "oPoaAWrGX_9G"
   },
   "outputs": [
    {
     "name": "stdout",
     "output_type": "stream",
     "text": [
      "The history saving thread hit an unexpected error (OperationalError('attempt to write a readonly database')).History will not be written to the database.\n"
     ]
    }
   ],
   "source": [
    "import csv"
   ]
  },
  {
   "cell_type": "markdown",
   "metadata": {
    "id": "kr-wOGufX_9J"
   },
   "source": [
    "La manera preferida de leer un archivo CSV es utilizando el método `DictReader()`, el cual crea una un diccionario por cada línea que lee, con los nombres de columna como clave, y los contenidos del registro como valor."
   ]
  },
  {
   "cell_type": "code",
   "execution_count": 2,
   "metadata": {
    "id": "U5y1klXEX_9K"
   },
   "outputs": [],
   "source": [
    "import os\n",
    "data_pkg_path = 'data'\n",
    "filename = 'worldcities.csv'\n",
    "path = os.path.join(data_pkg_path, filename)"
   ]
  },
  {
   "cell_type": "code",
   "execution_count": null,
   "metadata": {
    "id": "PnGJ9LovX_9L"
   },
   "outputs": [],
   "source": [
    "f = open(path, 'r')\n",
    "csv_reader = csv.DictReader(f, delimiter=',', quotechar='\"')\n",
    "print(csv_reader)\n",
    "f.close()"
   ]
  },
  {
   "cell_type": "markdown",
   "metadata": {
    "id": "p43TmAcXX_9N"
   },
   "source": [
    "## Utilizando la función `enumerate()`\n",
    "\n",
    "Cuando se itera sobre un objeto, muchas veces necesitamos un contador, para ir llevando la cuenta del índice de cada elemento.\n",
    "\n",
    "Una forma de conseguir esto es llevando manualmente la cuenta de cada elemento, pero Python permite hacerlo automáticamente mediante la función `enumerate()`."
   ]
  },
  {
   "cell_type": "code",
   "execution_count": 1,
   "metadata": {
    "id": "CYePkICvX_9O"
   },
   "outputs": [
    {
     "name": "stdout",
     "output_type": "stream",
     "text": [
      "(0, 'San Francisco')\n",
      "(1, 'Los Angeles')\n",
      "(2, 'New York')\n",
      "(3, 'Atlanta')\n"
     ]
    }
   ],
   "source": [
    "cities = ['San Francisco', 'Los Angeles', 'New York', 'Atlanta']\n",
    "for x in enumerate(cities):\n",
    "    print(x)"
   ]
  },
  {
   "cell_type": "markdown",
   "metadata": {
    "id": "2SQQcOnkX_9P"
   },
   "source": [
    "Podemos usar `enumerate()` en cualquier objeto iterable y obtener una serie de tuplas con el índice y el valor en dicha iteración."
   ]
  },
  {
   "cell_type": "markdown",
   "metadata": {},
   "source": [
    "### Ejemplo\n",
    "Veamos cómo leer los 5 primeros elementos de un diccionario"
   ]
  },
  {
   "cell_type": "code",
   "execution_count": null,
   "metadata": {
    "id": "JMdaJQtfX_9Q"
   },
   "outputs": [],
   "source": [
    "f = open(path, 'r', encoding='utf-8')\n",
    "csv_reader = csv.DictReader(f, delimiter=',', quotechar='\"')\n",
    "for index, row in enumerate(csv_reader):\n",
    "    print(row)\n",
    "    if index == 4:\n",
    "        break\n",
    "f.close()"
   ]
  },
  {
   "cell_type": "markdown",
   "metadata": {
    "id": "8ZIN3M19X_9S"
   },
   "source": [
    "The code for file handling requires we open a file, do something with the file object and then close the file. That is tedious and it is possible that you may forget to call `close()` on the file. If the code for processing encounters an error the file is not closed property, it may result in bugs - especially when writing files.\n",
    "\n",
    "The preferred way to work with file objects is using the `with` statement. It results in simpler and cleaer code - which also ensures file objects are closed properly in case of errors.\n",
    "\n",
    "As you see below, we open the file and use the file object `f` in a `with` statement. Python takes care of closing the file when the execution of code within the statement is complete."
   ]
  },
  {
   "cell_type": "code",
   "execution_count": null,
   "metadata": {
    "id": "vu9-IO38X_9T"
   },
   "outputs": [],
   "source": [
    "with open(path, 'r', encoding='utf-8') as f:\n",
    "    csv_reader = csv.DictReader(f)"
   ]
  },
  {
   "cell_type": "markdown",
   "metadata": {
    "id": "DMydfSKFX_9U"
   },
   "source": [
    "## Filtrando registros\n",
    "\n",
    "Podemos utilizar sentencias condicionales cuando iteramos sobre los registros de un CSV para seleccionar y procesar aquellos registros que caen bajo determinado criterio. "
   ]
  },
  {
   "cell_type": "markdown",
   "metadata": {
    "id": "DMydfSKFX_9U"
   },
   "source": [
    "### Ejemplo\n",
    "\n",
    "Contemos cuántas ciudades de un determinado país están presentes en el archivo."
   ]
  },
  {
   "cell_type": "code",
   "execution_count": 3,
   "metadata": {
    "id": "rPti4RzWX_9V"
   },
   "outputs": [
    {
     "ename": "NameError",
     "evalue": "name 'path' is not defined",
     "output_type": "error",
     "traceback": [
      "\u001b[0;31m---------------------------------------------------------------------------\u001b[0m",
      "\u001b[0;31mNameError\u001b[0m                                 Traceback (most recent call last)",
      "Cell \u001b[0;32mIn[3], line 4\u001b[0m\n\u001b[1;32m      1\u001b[0m country \u001b[38;5;241m=\u001b[39m \u001b[38;5;124m'\u001b[39m\u001b[38;5;124mArgentina\u001b[39m\u001b[38;5;124m'\u001b[39m\n\u001b[1;32m      2\u001b[0m num_cities \u001b[38;5;241m=\u001b[39m \u001b[38;5;241m0\u001b[39m\n\u001b[0;32m----> 4\u001b[0m \u001b[38;5;28;01mwith\u001b[39;00m \u001b[38;5;28mopen\u001b[39m(\u001b[43mpath\u001b[49m, \u001b[38;5;124m'\u001b[39m\u001b[38;5;124mr\u001b[39m\u001b[38;5;124m'\u001b[39m, encoding\u001b[38;5;241m=\u001b[39m\u001b[38;5;124m'\u001b[39m\u001b[38;5;124mutf-8\u001b[39m\u001b[38;5;124m'\u001b[39m) \u001b[38;5;28;01mas\u001b[39;00m f:\n\u001b[1;32m      5\u001b[0m     csv_reader \u001b[38;5;241m=\u001b[39m csv\u001b[38;5;241m.\u001b[39mDictReader(f)\n\u001b[1;32m      7\u001b[0m     \u001b[38;5;28;01mfor\u001b[39;00m row \u001b[38;5;129;01min\u001b[39;00m csv_reader:\n",
      "\u001b[0;31mNameError\u001b[0m: name 'path' is not defined"
     ]
    }
   ],
   "source": [
    "country = 'Argentina'\n",
    "num_cities = 0\n",
    "\n",
    "with open(path, 'r', encoding='utf-8') as f:\n",
    "    csv_reader = csv.DictReader(f)\n",
    "\n",
    "    for row in csv_reader:\n",
    "        if row['country'] == country:\n",
    "            num_cities += 1\n",
    "            \n",
    "print(num_cities)"
   ]
  },
  {
   "cell_type": "markdown",
   "metadata": {
    "id": "s0HpZM5tX_9W"
   },
   "source": [
    "## Calculando distancia\n",
    "\n",
    "Apliquemos lo que hemos aprendido hasta ahora para resolver un problema. Queremos leer el archivo `worldcities.csv`, encontrar todas las ciudades que pertenecen a un país dado, y luego calcular las distancias de una ciudad que elijamos a dichas ciudades. Los resultados deben ser escritos a un nuevo archivo CSV."
   ]
  },
  {
   "cell_type": "markdown",
   "metadata": {
    "id": "PtQ1YIb1X_9W"
   },
   "source": [
    "First we find the coordinates of the out selected `home_city` from the file. Replace the `home_city` below with your hometown or a large city within your country. Note that we are using the `city_ascii` field for city name comparison, so make sure the `home_city` variable contains the ASCII version of the city name."
   ]
  },
  {
   "cell_type": "code",
   "execution_count": null,
   "metadata": {
    "id": "RxAciTfdX_9W"
   },
   "outputs": [],
   "source": [
    "home_city = 'Bengaluru'\n",
    "\n",
    "home_city_coordinates = ()\n",
    "\n",
    "with open(path, 'r', encoding='utf-8') as f:\n",
    "    csv_reader = csv.DictReader(f)\n",
    "    for row in csv_reader:\n",
    "        if row['city_ascii'] == home_city:\n",
    "            lat = row['lat']\n",
    "            lng = row['lng']\n",
    "            home_city_coordinates = (lat, lng)\n",
    "            break\n",
    "        \n",
    "print(home_city_coordinates)"
   ]
  },
  {
   "cell_type": "markdown",
   "metadata": {
    "id": "LKm3cno5X_9W"
   },
   "source": [
    "Ahora podemos recorrer el archivo, encontrar una ciudad en el país elejido y llamar a la función `geopy.distance.geodesic()` para calcular la distancia."
   ]
  },
  {
   "cell_type": "code",
   "execution_count": 4,
   "metadata": {
    "id": "1pirEpD0X_9X"
   },
   "outputs": [
    {
     "ename": "ModuleNotFoundError",
     "evalue": "No module named 'geopy'",
     "output_type": "error",
     "traceback": [
      "\u001b[0;31m---------------------------------------------------------------------------\u001b[0m",
      "\u001b[0;31mModuleNotFoundError\u001b[0m                       Traceback (most recent call last)",
      "Cell \u001b[0;32mIn[4], line 1\u001b[0m\n\u001b[0;32m----> 1\u001b[0m \u001b[38;5;28;01mfrom\u001b[39;00m \u001b[38;5;21;01mgeopy\u001b[39;00m \u001b[38;5;28;01mimport\u001b[39;00m distance\n\u001b[1;32m      3\u001b[0m \u001b[38;5;28;01mwith\u001b[39;00m \u001b[38;5;28mopen\u001b[39m(path, \u001b[38;5;124m'\u001b[39m\u001b[38;5;124mr\u001b[39m\u001b[38;5;124m'\u001b[39m, encoding\u001b[38;5;241m=\u001b[39m\u001b[38;5;124m'\u001b[39m\u001b[38;5;124mutf-8\u001b[39m\u001b[38;5;124m'\u001b[39m) \u001b[38;5;28;01mas\u001b[39;00m f:\n\u001b[1;32m      4\u001b[0m     csv_reader \u001b[38;5;241m=\u001b[39m csv\u001b[38;5;241m.\u001b[39mDictReader(f)\n",
      "\u001b[0;31mModuleNotFoundError\u001b[0m: No module named 'geopy'"
     ]
    }
   ],
   "source": [
    "from geopy import distance\n",
    "\n",
    "with open(path, 'r', encoding='utf-8') as f:\n",
    "    csv_reader = csv.DictReader(f)\n",
    "    for row in csv_reader:\n",
    "        if (row['country'] == home_country and\n",
    "            row['city_ascii'] != home_city):\n",
    "            city_coordinates = (row['lat'], row['lng'])\n",
    "            city_distance = distance.geodesic(\n",
    "                city_coordinates, home_city_coordinates).km\n",
    "            print(row['city_ascii'], city_distance)\n",
    "\n",
    "\n",
    "        "
   ]
  },
  {
   "cell_type": "markdown",
   "metadata": {
    "id": "fsgJ_oZxX_9X"
   },
   "source": [
    "## Escribiendo archivos\n",
    "\n",
    "En vez de imprimir los resultados en pantalla, vamos a escribirlos en un nuevo archivo. De manera similar a `csv. DictReader()`, existe la función `csv. DictWriter()` para escribir archivos. Primero creamos un objeto `csv_writer` y luego escribimos en él usando el método `writerow()`."
   ]
  },
  {
   "cell_type": "markdown",
   "metadata": {
    "id": "SKz12_N0X_9X"
   },
   "source": [
    "Primero creamos una carpeta `output` para guardar los resultados. Chequeamos si existe, en caso negativo la creamos."
   ]
  },
  {
   "cell_type": "code",
   "execution_count": null,
   "metadata": {
    "id": "bT5z7rmOX_9X"
   },
   "outputs": [],
   "source": [
    "output_dir = 'output'\n",
    "if not os.path.exists(output_dir):\n",
    "    os.mkdir(output_dir)"
   ]
  },
  {
   "cell_type": "code",
   "execution_count": null,
   "metadata": {
    "id": "NAn7zE7_X_9Y"
   },
   "outputs": [],
   "source": [
    "output_filename = 'cities_distance.csv'\n",
    "output_path = os.path.join(output_dir, output_filename)\n",
    "\n",
    "distances = []\n",
    "\n",
    "with open(path, 'r', encoding='utf-8') as f:\n",
    "    csv_reader = csv.DictReader(f)\n",
    "    for row in csv_reader:\n",
    "        country = row['country']\n",
    "        city = row['city_ascii']\n",
    "        if country == home_country and city != home_city:\n",
    "            city_coordinates = (row['lat'], row['lng'])\n",
    "            city_distance = distance.geodesic(city_coordinates, home_city_coordinates).km\n",
    "            distances.append((city, city_distance))\n",
    "\n",
    "with open(output_path, mode='w', newline='', encoding='utf-8') as output_file:\n",
    "    fieldnames = ['city', 'distance_from_home']\n",
    "    csv_writer = csv.DictWriter(output_file, fieldnames=fieldnames)\n",
    "    csv_writer.writeheader()\n",
    "    \n",
    "    for city, distance in distances:\n",
    "        csv_writer.writerow(\n",
    "            {'city': city,\n",
    "             'distance_from_home': distance}\n",
    "            )"
   ]
  },
  {
   "cell_type": "markdown",
   "metadata": {
    "id": "E8tFLpCnX_9Z"
   },
   "source": [
    "## Ejercicios\n",
    "\n",
    "- (Fácil) Reemplazar el valor de las variables de la ciudad de origen y el país y crear un nuevo archivo csv conteniendo las distancias de esa ciudad de origen a las ciudades de ése país.\n",
    "- (No tan fácil) Hacer un código equivalente pero más corto. Sugerencia: usar [listas por comprensión](https://docs.python.org/3/tutorial/datastructures.html#list-comprehensions) o bien `map()` y `filter()` y la función `csv.writerows()`"
   ]
  },
  {
   "cell_type": "markdown",
   "metadata": {
    "id": "aHHSUxyDX_9Z"
   },
   "source": [
    "----"
   ]
  }
 ],
 "metadata": {
  "colab": {
   "provenance": []
  },
  "kernelspec": {
   "display_name": "Python 3 (ipykernel)",
   "language": "python",
   "name": "python3"
  },
  "language_info": {
   "codemirror_mode": {
    "name": "ipython",
    "version": 3
   },
   "file_extension": ".py",
   "mimetype": "text/x-python",
   "name": "python",
   "nbconvert_exporter": "python",
   "pygments_lexer": "ipython3",
   "version": "3.12.3"
  }
 },
 "nbformat": 4,
 "nbformat_minor": 4
}

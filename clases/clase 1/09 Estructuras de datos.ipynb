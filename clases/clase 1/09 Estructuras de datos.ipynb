{
 "cells": [
  {
   "cell_type": "markdown",
   "id": "ee8ccd24-c88c-4b1f-8221-9c73688be4d9",
   "metadata": {},
   "source": [
    "# Estructuras de datos\n",
    "\n",
    "Una **estructura de datos** es una abstracción que nos proveen los lenguajes de programación para poder construír datos con la forma (*estructura*) que nosotros necesitamos a partir de los datos básicos. \n",
    "\n",
    "Estas estructuras tienen también propiedades y comportamientos particulares que los hacen aplicables para solucionar diferentes problemas. Es bueno conocerlos estas propiedades para saber qué estructura se aplica mejor en cada caso.\n",
    "\n",
    "Python incluye estructuras predefinidas, y provee facilidades para crear las nuestras. Ahora vamos a ver algunas de las que vienen con Python."
   ]
  },
  {
   "cell_type": "markdown",
   "id": "5f5a250e-2f0e-4d16-90b8-e6bd05581a31",
   "metadata": {},
   "source": [
    "## Tuplas\n",
    "Una agrupación de objetos, ayuda pensarla como un \"paquete\" de cosas. Estos objetos pueden accederse dentro de la tupla por su *índice*. \n",
    "\n",
    "En Python las tuplas se denotan entre paréntesis -`(` `)`- y sus elementos se separan por coma."
   ]
  },
  {
   "cell_type": "code",
   "execution_count": 2,
   "id": "ba1b3ea1-aeb9-496b-9321-1ffe982c363c",
   "metadata": {},
   "outputs": [
    {
     "name": "stdout",
     "output_type": "stream",
     "text": [
      "(-43.253333, -65.309444)\n",
      "La latitud de Trelew es %s -43.253333\n"
     ]
    }
   ],
   "source": [
    "coordenadas_trelew = (-43.253333, -65.309444) # Definimos la tupla\n",
    "print(coordenadas_trelew) # la mostramos en pantalla\n",
    "latitud = coordenadas_trelew[0] # acceso al primer elemento de la tupla\n",
    "print(\"La latitud de Trelew es %s\", latitud)"
   ]
  },
  {
   "cell_type": "code",
   "execution_count": 6,
   "id": "2c24b543-28ed-48a8-af78-59926d046e1f",
   "metadata": {},
   "outputs": [
    {
     "name": "stdout",
     "output_type": "stream",
     "text": [
      "(-43.3, -65.1)\n"
     ]
    }
   ],
   "source": [
    "latitud_rawson = -43.3\n",
    "longitud_rawson = -65.1\n",
    "coordenadas_rawson =  (latitud_rawson, longitud_rawson)\n",
    "print(coordenadas_rawson)"
   ]
  },
  {
   "cell_type": "markdown",
   "id": "523284ec-577c-4303-8501-4ac047e593b2",
   "metadata": {},
   "source": [
    "Una particularidad de las tuplas es que son *inmutables*, es decir que no pueden ser modificadas una vez que son definidas. Esto tiene sus ventajas y desventajas. Cuando necesitamos una estructura de datos que se pueda modificar, usamos **listas**."
   ]
  },
  {
   "cell_type": "markdown",
   "id": "d1dae953-c792-4198-942a-ed39c194221c",
   "metadata": {},
   "source": [
    "## Listas\n",
    "\n",
    "Similares a las tuplas, pero son modificables, tanto en su contenido como en su longitud (se pueden agregar o quitar elementos).\n",
    "\n",
    "En Python las tuplas se denotan entre corchetes -`[` `]`- y sus elementos se separan por coma."
   ]
  },
  {
   "cell_type": "code",
   "execution_count": 10,
   "id": "e4a80c77-25ec-4998-af74-b4fd4fdfa0f2",
   "metadata": {},
   "outputs": [
    {
     "name": "stdout",
     "output_type": "stream",
     "text": [
      "['Trelew', 'Gaiman', 'Rawson', 'Puerto Madryn']\n",
      "La lista tiene 4 ciudades\n",
      "Ahora la lista tiene 5 ciudades\n",
      "Las ciudades ordenadas alfabéticamente son:\n",
      "['Comodoro Rivadavia', 'Gaiman', 'Puerto Madryn', 'Rawson', 'Trelew']\n"
     ]
    }
   ],
   "source": [
    "ciudades = ['Trelew', 'Gaiman', 'Rawson', 'Puerto Madryn'] # definimos una lista\n",
    "print(ciudades) # la mostramos en pantalla\n",
    "print(\"La lista tiene %d ciudades\" % len(ciudades)) # indicamos su longitud (la cantidad de elementos que tiene)\n",
    "ciudades.append(\"Comodoro Rivadavia\") # agregamos un elemento\n",
    "print(\"Ahora la lista tiene %d ciudades\" % len(ciudades))\n",
    "ciudades.sort()\n",
    "print(\"Las ciudades ordenadas alfabéticamente son:\")\n",
    "print(ciudades)"
   ]
  },
  {
   "cell_type": "markdown",
   "id": "5a93fb9f-d148-47cf-9b1a-fc610c6b9b6d",
   "metadata": {},
   "source": [
    "Las listas son muy útiles para un montón de casos en donde trabajamos con una serie de elementos. Pero un problema que tienen es que (al igual que con las tuplas) sólo podemos referenciar sus elementos por su índice. Esto muchas veces no es práctico, ya sea porque hay muchísimos elementos y nos cuesta saber siempre qué índice tiene el que buscamos o porque los datos que trabajamos tienen una forma no-lineal. En ese caso nos convienen los **diccionarios**."
   ]
  },
  {
   "cell_type": "markdown",
   "id": "4baa9d6e-7838-481d-b807-80f5480a561e",
   "metadata": {},
   "source": [
    "## Diccionarios\n",
    "\n",
    "Estructuras de datos mutables, en donde los valores están referenciados por una *clave*. Es decir que para definir o consultar un valor del diccionario, lo vamos a señalar mediante su clave, no su índice.\n",
    "\n",
    "Los diccionarios se denotan entre llaves -`{` y `}`-, los elementos se separan por coma y los pares clave/valor por dos puntos `:`. \n"
   ]
  },
  {
   "cell_type": "code",
   "execution_count": 3,
   "id": "57ac43bd-b8f4-4ca0-9958-2fc0fd817c17",
   "metadata": {},
   "outputs": [
    {
     "name": "stdout",
     "output_type": "stream",
     "text": [
      "{'nombre': 'Trelew', 'coordenadas': (-43.253333, -65.309444), 'población': 110000}\n",
      "dict_keys(['nombre', 'coordenadas', 'población'])\n",
      "dict_values(['Trelew', (-43.253333, -65.309444), 110000])\n"
     ]
    }
   ],
   "source": [
    "datos_trelew = {'nombre':'Trelew', 'coordenadas':coordenadas_trelew, 'población':110000}\n",
    "print(datos_trelew)\n",
    "print(datos_trelew.keys()) #Mostramos sólamente las claves\n",
    "print(datos_trelew.values()) #Mostramos sólamente los valores"
   ]
  },
  {
   "cell_type": "markdown",
   "id": "2dfd2b37-fe44-43cd-870b-566d2825c0c7",
   "metadata": {},
   "source": [
    "### Ejercicio\n",
    "\n",
    "Hacer que Python imprima la el mensaje `La ciudad de Trelew tiene 110000 habitantes y se ubica en las coordenadas -43.253333,-65.309444`usando el diccionario `datos_trelew` que se definió más arriba."
   ]
  }
 ],
 "metadata": {
  "kernelspec": {
   "display_name": "Python 3 (ipykernel)",
   "language": "python",
   "name": "python3"
  },
  "language_info": {
   "codemirror_mode": {
    "name": "ipython",
    "version": 3
   },
   "file_extension": ".py",
   "mimetype": "text/x-python",
   "name": "python",
   "nbconvert_exporter": "python",
   "pygments_lexer": "ipython3",
   "version": "3.12.3"
  }
 },
 "nbformat": 4,
 "nbformat_minor": 5
}

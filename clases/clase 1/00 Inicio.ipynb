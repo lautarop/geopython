{
 "cells": [
  {
   "cell_type": "markdown",
   "id": "b8c896a2-2e36-4059-ab50-e4e85e4df522",
   "metadata": {},
   "source": [
    "# ¡Bienvenides!\n",
    "\n",
    "Este es un taller de programación en Python orientado al uso dentro del programa QGIS.\n",
    "\n",
    "El taller posee un [aula virtual](https://aulas.ticeig.net/course/view.php?id=5) en la cual se dará la comunicación por el foro entre todos los participantes, se publicarán recursos y material diverso y se llevará a cabo el autoexamen final para obtener la aprobación del curso.\n",
    "\n",
    "También es posible obtener una certificación de asistencia del curso asistiendo a 3 de las 4 clases.\n",
    "\n",
    "El taller está pensado para personas sin experiencia previa programando y el objetivo es obtener los fundamentos básicos de programación para poder comprender y utilizar Python para manejar/automatizar QGIS.\n",
    "\n",
    "Esto es un [Jupyter Notebook](https://jupyter.org/) el cual pueden instalar en sus máquinas para correrlo o bien usarlo desde [binder](https://mybinder.org/v2/gh/lautarop/geopython/HEAD). Si desean instalarlo en sus máquinas deben\n",
    "- instalar Python\n",
    "- instalar Jupyter\n",
    "- clonar/bajar el contenido del [repositorio de este notebook](https://github.com/lautarop/geopython)\n",
    "\n",
    "Si usan Windows y no se animan a instalar las cosas a mano, recomiendo la distribución de software [WinPython](https://winpython.github.io/), que ya incluye todo de manera preempaquetada."
   ]
  }
 ],
 "metadata": {
  "kernelspec": {
   "display_name": "Python 3 (ipykernel)",
   "language": "python",
   "name": "python3"
  },
  "language_info": {
   "codemirror_mode": {
    "name": "ipython",
    "version": 3
   },
   "file_extension": ".py",
   "mimetype": "text/x-python",
   "name": "python",
   "nbconvert_exporter": "python",
   "pygments_lexer": "ipython3",
   "version": "3.12.3"
  }
 },
 "nbformat": 4,
 "nbformat_minor": 5
}

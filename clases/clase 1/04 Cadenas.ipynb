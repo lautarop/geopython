{
 "cells": [
  {
   "cell_type": "markdown",
   "metadata": {},
   "source": [
    "# Cadenas\n",
    "Las [cadenas de texto (_strings_)](https://docs.python.org/3/library/stdtypes.html#text-sequence-type-str) se usan para representar cadenas de caracteres. Forman parte de un grupo de tipos de datos de Python llamados [secuencias](https://docs.python.org/3/library/stdtypes.html#sequence-types-list-tuple-range), que incluye también a las listas y a las tuplas. Los elementos de las secuencias están ordenados y tienen una posición especificada mediante un índice numérico (0, 1, ...)\n"
   ]
  },
  {
   "cell_type": "markdown",
   "metadata": {},
   "source": [
    "## Definición"
   ]
  },
  {
   "cell_type": "code",
   "execution_count": 1,
   "metadata": {},
   "outputs": [
    {
     "name": "stdout",
     "output_type": "stream",
     "text": [
      "John\n",
      "Doe\n"
     ]
    }
   ],
   "source": [
    "# Las cadenas se definen mediante comillas dobles\n",
    "nombre = \"John\"\n",
    "\n",
    "# o comillas simples\n",
    "apellido = 'Doe'\n",
    "\n",
    "print(nombre)\n",
    "print(apellido)\n"
   ]
  },
  {
   "cell_type": "markdown",
   "metadata": {},
   "source": [
    "> &#x2757; **Nota**: Debe usarse el mismo tipo de comillas tanto al principio como al final de la cadena"
   ]
  },
  {
   "cell_type": "code",
   "execution_count": 2,
   "metadata": {},
   "outputs": [
    {
     "name": "stdout",
     "output_type": "stream",
     "text": [
      "¡\n",
      "H\n",
      "o\n",
      "l\n",
      "a\n",
      "!\n"
     ]
    }
   ],
   "source": [
    "# Los elementos de una cadena pueden accederse por separado, especificando su índice.\n",
    "# El índice de la primera posición es 0.\n",
    "saludo = \"¡Hola!\"\n",
    "print(saludo[0])\n",
    "print(saludo[1])\n",
    "print(saludo[2])\n",
    "print(saludo[3])\n",
    "print(saludo[4])\n",
    "print(saludo[5])"
   ]
  },
  {
   "cell_type": "markdown",
   "metadata": {},
   "source": [
    "## Secuencias de escape (_escape sequences_)\n",
    "Las [secuencias de escape](https://docs.python.org/3/reference/lexical_analysis.html#literals) permiten insertar ciertos caracteres especiales en cadenas."
   ]
  },
  {
   "cell_type": "code",
   "execution_count": 3,
   "metadata": {},
   "outputs": [
    {
     "name": "stdout",
     "output_type": "stream",
     "text": [
      "Primera línea.\n",
      "Segunda línea.\n"
     ]
    }
   ],
   "source": [
    "# La secuencia \\n se usa para provocar un cambio de línea\n",
    "print(\"Primera línea.\\nSegunda línea.\")"
   ]
  },
  {
   "cell_type": "code",
   "execution_count": 4,
   "metadata": {},
   "outputs": [
    {
     "name": "stdout",
     "output_type": "stream",
     "text": [
      "Cédula\tNombre\tApellido\n",
      "2087208\tJohn\tDoe\n",
      "4147392\tJuan\tPérez\n"
     ]
    }
   ],
   "source": [
    "# La secuencia \\t corresponde a un tabulador\n",
    "print(\"Cédula\\tNombre\\tApellido\")\n",
    "print(\"2087208\\tJohn\\tDoe\")\n",
    "print(\"4147392\\tJuan\\tPérez\")"
   ]
  },
  {
   "cell_type": "markdown",
   "metadata": {},
   "source": [
    "## Funciones y operaciones con cadenas"
   ]
  },
  {
   "cell_type": "markdown",
   "metadata": {},
   "source": [
    "### La función [len()](https://docs.python.org/3/library/functions.html#len) retorna la longitud de una cadena"
   ]
  },
  {
   "cell_type": "code",
   "execution_count": 5,
   "metadata": {},
   "outputs": [
    {
     "data": {
      "text/plain": [
       "12"
      ]
     },
     "execution_count": 5,
     "metadata": {},
     "output_type": "execute_result"
    }
   ],
   "source": [
    "mensaje = \"¡Buenos días\"\n",
    "len(mensaje)"
   ]
  },
  {
   "cell_type": "markdown",
   "metadata": {},
   "source": [
    "### La función [int()](https://docs.python.org/3/library/functions.html#int) convierte una cadena con caracteres numéricos a tipo entero"
   ]
  },
  {
   "cell_type": "code",
   "execution_count": 6,
   "metadata": {},
   "outputs": [
    {
     "name": "stdout",
     "output_type": "stream",
     "text": [
      "23\n",
      "<class 'str'>\n",
      "23\n",
      "<class 'int'>\n"
     ]
    }
   ],
   "source": [
    "# Variable tipo cadena\n",
    "a = \"23\"\n",
    "print(a)\n",
    "print(type(a))\n",
    "\n",
    "# Conversión a entero\n",
    "a = int(a)\n",
    "print(a)\n",
    "print(type(a))"
   ]
  },
  {
   "cell_type": "markdown",
   "metadata": {},
   "source": [
    "### La función  [float()](https://docs.python.org/3/library/functions.html#float) convierte una cadena con caracteres numéricos a tipo punto flotante"
   ]
  },
  {
   "cell_type": "code",
   "execution_count": 7,
   "metadata": {},
   "outputs": [
    {
     "name": "stdout",
     "output_type": "stream",
     "text": [
      "5.7\n",
      "<class 'str'>\n",
      "5.7\n",
      "<class 'float'>\n"
     ]
    }
   ],
   "source": [
    "# Variable tipo cadena\n",
    "b = \"5.7\"\n",
    "print(b)\n",
    "print(type(b))\n",
    "\n",
    "# Conversión a punto flotante\n",
    "b = float(b)\n",
    "print(b)\n",
    "print(type(b))"
   ]
  },
  {
   "cell_type": "markdown",
   "metadata": {},
   "source": [
    "### La función [str()](https://docs.python.org/3/library/functions.html#func-str) convierte un valor numérico a tipo cadena"
   ]
  },
  {
   "cell_type": "code",
   "execution_count": 8,
   "metadata": {},
   "outputs": [
    {
     "name": "stdout",
     "output_type": "stream",
     "text": [
      "5.7\n",
      "<class 'float'>\n",
      "5.7\n",
      "<class 'str'>\n"
     ]
    }
   ],
   "source": [
    "# Variable tipo numérico\n",
    "n = 5.7\n",
    "print(n)\n",
    "print(type(n))\n",
    "\n",
    "# Conversión a cadena\n",
    "n = str(n)\n",
    "print(n)\n",
    "print(type(n))"
   ]
  },
  {
   "cell_type": "markdown",
   "metadata": {},
   "source": [
    "### El operador `+` realiza una concatenación de cadenas"
   ]
  },
  {
   "cell_type": "code",
   "execution_count": 9,
   "metadata": {},
   "outputs": [
    {
     "name": "stdout",
     "output_type": "stream",
     "text": [
      "Juan Pérez\n"
     ]
    }
   ],
   "source": [
    "nombre = \"Juan\"\n",
    "apellido = \"Pérez\"\n",
    "nombre_completo = nombre + \" \" + apellido\n",
    "print(nombre_completo)"
   ]
  },
  {
   "cell_type": "markdown",
   "metadata": {},
   "source": [
    "### La función [input()](https://docs.python.org/3/library/functions.html#input) lee una cadena ingresada por el usuario\n",
    "Como argumento, acepta otra cadena que se presenta como un mensaje solicitando información."
   ]
  },
  {
   "cell_type": "code",
   "execution_count": null,
   "metadata": {},
   "outputs": [],
   "source": [
    "edad = input(\"Por favor ingrese la edad del paciente en años: \")\n",
    "print(\"El paciente tiene \" + edad + \" años\")"
   ]
  },
  {
   "cell_type": "markdown",
   "metadata": {},
   "source": [
    "input() retorna una cadena. Si esta va a usarse como un número (ej. en aritmética), debe convertirse primero mediante int() o float()"
   ]
  },
  {
   "cell_type": "code",
   "execution_count": null,
   "metadata": {},
   "outputs": [],
   "source": [
    "# Suma de dos números enteros\n",
    "\n",
    "# Entrada\n",
    "a = input(\"Por favor ingrese el primer número entero: \")\n",
    "b = input(\"Por favor ingrese el segundo número entero: \")\n",
    "\n",
    "# Proceso\n",
    "suma = int(a) + int(b)\n",
    "\n",
    "# Salida\n",
    "print(\"La suma de \" + a + \" y \" + b + \" es igual a: \" + str(suma))"
   ]
  },
  {
   "cell_type": "markdown",
   "metadata": {},
   "source": [
    "# Ejercicios\n",
    "Modifique los programas de conversión de grados Celsius a Fahrenheit y de cálculo del índice de masa corporal para que los datos de entrada sean ingresados por el usuario a través de la función `input()`. "
   ]
  },
  {
   "cell_type": "code",
   "execution_count": null,
   "metadata": {},
   "outputs": [],
   "source": []
  },
  {
   "cell_type": "markdown",
   "metadata": {},
   "source": [
    "## Algo más sobre cadenas: mostrando cadenas"
   ]
  },
  {
   "cell_type": "markdown",
   "metadata": {},
   "source": [
    "Hay al menos tres maneras diferentes de generar y mostrar una cadena en pantalla. No es necesario utilizarlas todas, pero es bueno conocerlas."
   ]
  },
  {
   "cell_type": "markdown",
   "metadata": {},
   "source": [
    "### Formateado estilo `printf`\n",
    "\n",
    "Este estilo es heredado del lenguaje C. Se especifica una cadena de formato y se le aplican uno o mas valores utilizando el operador `%`.\n",
    "\n",
    "https://docs.python.org/3/library/stdtypes.html#printf-style-string-formatting"
   ]
  },
  {
   "cell_type": "code",
   "execution_count": 8,
   "metadata": {},
   "outputs": [
    {
     "name": "stdout",
     "output_type": "stream",
     "text": [
      "La población de San Francisco es 881549\n"
     ]
    }
   ],
   "source": [
    "ciudad = 'San Francisco'\n",
    "población = 881549\n",
    "print(\"La población de %s es %d\" % (ciudad,población))"
   ]
  },
  {
   "cell_type": "markdown",
   "metadata": {},
   "source": [
    "### Método `str.format()`\n",
    "\n",
    "Podemos usar el método `format()`del tipo `string` para crear una cadena entre llaves y especificar los valores con los que llenar cada campo."
   ]
  },
  {
   "cell_type": "code",
   "execution_count": 7,
   "metadata": {},
   "outputs": [
    {
     "name": "stdout",
     "output_type": "stream",
     "text": [
      "La población de San Francisco es 881549.\n"
     ]
    }
   ],
   "source": [
    "resultado = 'La población de {} es {}.'.format(ciudad, población)\n",
    "print(resultado)"
   ]
  },
  {
   "cell_type": "markdown",
   "metadata": {},
   "source": [
    "You can also use the format method to control the precision of the numbers\n",
    "Incluso podemos usar el método `format()` para controlar la precisión de los números"
   ]
  },
  {
   "cell_type": "code",
   "execution_count": 3,
   "metadata": {},
   "outputs": [
    {
     "name": "stdout",
     "output_type": "stream",
     "text": [
      "37.77,-122.42\n"
     ]
    }
   ],
   "source": [
    "latitud = 37.7749\n",
    "longitud = -122.4194\n",
    "\n",
    "coordenadas = '{:.2f},{:.2f}'.format(latitud, longitud)\n",
    "print(coordenadas)"
   ]
  },
  {
   "cell_type": "markdown",
   "metadata": {},
   "source": [
    "Ver más en https://docs.python.org/3/library/string.html#formatstrings"
   ]
  },
  {
   "cell_type": "markdown",
   "metadata": {},
   "source": [
    "### F-Strings\n",
    "\n",
    "Una manera más sucinta que el método `format()` para formatear cadenas son las llamadas *f-strings*. Trabajan de manera similar a `format()`pero con una sintaxis más concisa. Creamos una f-string anteponiéndole una `f`a una cadela literal. Las variables entre llaves dentro de la cadena son reemplazadas por sus valores."
   ]
  },
  {
   "cell_type": "code",
   "execution_count": 4,
   "metadata": {},
   "outputs": [
    {
     "name": "stdout",
     "output_type": "stream",
     "text": [
      "La población de San Francisco es 881549.\n"
     ]
    }
   ],
   "source": [
    "resultado = f'La población de {ciudad} es {población}.'\n",
    "print(resultado)"
   ]
  },
  {
   "cell_type": "markdown",
   "metadata": {},
   "source": [
    "También podemos controlar la precisión de la representación de los números con la misma sintaxis de `format()`."
   ]
  },
  {
   "cell_type": "code",
   "execution_count": 6,
   "metadata": {},
   "outputs": [
    {
     "name": "stdout",
     "output_type": "stream",
     "text": [
      "37.77,-122.42\n"
     ]
    }
   ],
   "source": [
    "coordenadas = f'{latitud:.2f},{longitud:.2f}'\n",
    "print(coordenadas)\n"
   ]
  }
 ],
 "metadata": {
  "kernelspec": {
   "display_name": "Python 3 (ipykernel)",
   "language": "python",
   "name": "python3"
  },
  "language_info": {
   "codemirror_mode": {
    "name": "ipython",
    "version": 3
   },
   "file_extension": ".py",
   "mimetype": "text/x-python",
   "name": "python",
   "nbconvert_exporter": "python",
   "pygments_lexer": "ipython3",
   "version": "3.12.3"
  }
 },
 "nbformat": 4,
 "nbformat_minor": 4
}

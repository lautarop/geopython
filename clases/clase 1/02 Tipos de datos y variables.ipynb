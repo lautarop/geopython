{
 "cells": [
  {
   "cell_type": "markdown",
   "metadata": {},
   "source": [
    "# Tipos de datos\n",
    "\n",
    "Un **tipo de dato** es una abstracción que nos permite decirle a la computadora que \"forma\", propiedades y acciones son válidas para operar con un dato. Al indicar que un dato dado es de tal o cual tipo, estamos entonces diciendo mucha información sobre dicho dato, y también dejamos explícitado lo que es válido hacer y lo que no. \n",
    "\n",
    "Python puede trabajar con una gran variedad de tipos de datos, entre los que están los siguientes:\n",
    "\n",
    "<table>\n",
    "\n",
    "<tr><th>Nombre</th><th>Palabra reservada</th><th>Descripción</th></tr>\n",
    "\n",
    "<tr><td>Enteros</td><td>int</td><td>Números enteros: 0, 20, -34</td></tr>\n",
    "<tr><td>Punto flotante</td><td>float</td><td>Números con punto decimal: 0.1, 35.0, -100.5</td></tr>\n",
    "<tr><td>Booleanos</td><td>bool</td><td>Valores lógicos de <strong>True</strong> (verdadero) o <strong>False</strong> (falso)</td></tr>\n",
    "<tr><td>Cadenas</td><td>str</td><td>Secuencias ordenadas de caracteres: \"Python\", \"Hola mundo\"</td></tr>\n",
    "<tr><td>Listas</td><td>list</td><td>Secuencias ordenadas de objetos: [1, 2, 3, \"cuatro\", True, [5, 6, 7]]</td></tr>\n",
    "<tr><td>Tuplas</td><td>tuple</td><td>Secuencias ordenadas inmutables de objetos: (\"tres\", [23, 34], -89, False)</td></tr>\n",
    "<tr><td>Conjuntos</td><td>set</td><td>Colecciones no ordenadas de objetos: {1, 2, \"a\", \"b\"}</td></tr>\n",
    "<tr><td>Diccionarios</td><td>dict</td><td>Pares ordenados atributo:valor: {\"nombre\":\"Juan\", \"apellido\":\"Pérez\"}</td></tr>\n",
    "\n",
    "</table>\n",
    "\n",
    "Existen otros tipos de datos más especializados (ej. fechas, horas, enumerados) que pueden consultarse en la [documentación oficial de Python sobre tipos de datos](https://docs.python.org/3/library/datatypes.html)."
   ]
  },
  {
   "cell_type": "markdown",
   "metadata": {},
   "source": [
    "## La función type()\n",
    "La función [type()](https://docs.python.org/3/library/functions.html#type) retorna el tipo del objeto que recibe como argumento. Es nuestra ayuda cuando no sabemos el tipo de un dato dado."
   ]
  },
  {
   "cell_type": "code",
   "execution_count": 1,
   "metadata": {},
   "outputs": [
    {
     "data": {
      "text/plain": [
       "int"
      ]
     },
     "execution_count": 1,
     "metadata": {},
     "output_type": "execute_result"
    }
   ],
   "source": [
    "type(25)"
   ]
  },
  {
   "cell_type": "code",
   "execution_count": 2,
   "metadata": {},
   "outputs": [
    {
     "data": {
      "text/plain": [
       "str"
      ]
     },
     "execution_count": 2,
     "metadata": {},
     "output_type": "execute_result"
    }
   ],
   "source": [
    "type(\"Costa Rica\")"
   ]
  },
  {
   "cell_type": "code",
   "execution_count": 3,
   "metadata": {},
   "outputs": [
    {
     "data": {
      "text/plain": [
       "list"
      ]
     },
     "execution_count": 3,
     "metadata": {},
     "output_type": "execute_result"
    }
   ],
   "source": [
    "type([1, 2, 3])"
   ]
  },
  {
   "cell_type": "code",
   "execution_count": 4,
   "metadata": {},
   "outputs": [
    {
     "data": {
      "text/plain": [
       "bool"
      ]
     },
     "execution_count": 4,
     "metadata": {},
     "output_type": "execute_result"
    }
   ],
   "source": [
    "type(2 > 5)"
   ]
  },
  {
   "cell_type": "markdown",
   "metadata": {},
   "source": [
    "Dado que Python tiene una representación particular para todos los tipos básicos, es mucho más probable que la usemos más adelante, cuando veamos tipos estructurados y objetos. Pero siempre conviene tener esta función \"a mano\"."
   ]
  },
  {
   "cell_type": "markdown",
   "metadata": {},
   "source": [
    "# Variables\n",
    "Una variable es un nombre que se asigna a una entidad en la memoria de la computadora. Dicha entidad es el *valor* de la variable. El valor se asigna mediante el operador **=**. Ese nombre puede ser luego asignado a otra entidad. De ahí el término *variable*. Conviene pensarlo como una de esas etiquetas autoadhesivas que se usan para ir marcando cosas, y que luego se pueden despegar y pegar como necesitemos."
   ]
  },
  {
   "cell_type": "code",
   "execution_count": 5,
   "metadata": {},
   "outputs": [
    {
     "name": "stdout",
     "output_type": "stream",
     "text": [
      "10\n",
      "<class 'int'>\n"
     ]
    }
   ],
   "source": [
    "# A la variable x se le asigna el valor 10\n",
    "x = 10\n",
    "print(x)\n",
    "print(type(x))"
   ]
  },
  {
   "cell_type": "code",
   "execution_count": 6,
   "metadata": {},
   "outputs": [
    {
     "name": "stdout",
     "output_type": "stream",
     "text": [
      "Patricia\n",
      "<class 'str'>\n"
     ]
    }
   ],
   "source": [
    "# A la variable nombre se le asigna el valor \"Patricia\"\n",
    "nombre = \"Patricia\"\n",
    "print(nombre)\n",
    "print(type(nombre))"
   ]
  },
  {
   "cell_type": "code",
   "execution_count": 8,
   "metadata": {},
   "outputs": [
    {
     "name": "stdout",
     "output_type": "stream",
     "text": [
      "1\n",
      "2\n"
     ]
    }
   ],
   "source": [
    "# Una variable puede cambiar de valor durante la ejecución del programa\n",
    "i = 1\n",
    "print(i)\n",
    "i = i + 1\n",
    "print(i)"
   ]
  },
  {
   "cell_type": "code",
   "execution_count": 9,
   "metadata": {},
   "outputs": [
    {
     "name": "stdout",
     "output_type": "stream",
     "text": [
      "30\n"
     ]
    }
   ],
   "source": [
    "# El valor de una variable pueden asignarse con base en los de otras variable\n",
    "x = 20\n",
    "y = 10\n",
    "z = x + y\n",
    "print(z)"
   ]
  },
  {
   "cell_type": "markdown",
   "metadata": {},
   "source": [
    "## Reglas para los nombres de variables\n",
    "- No pueden empezar con un número (sí pueden usarse números en el resto del nombre).\n",
    "- No pueden contener espacios (se sugiere usar el guión bajo: _).\n",
    "- No pueden contener ninguno de los siguientes símbolos: '\",<>:/?|\\!@#%^&*~-+\n",
    "- No deben utilizarse [palabras reservadas de Python](https://docs.python.org/3/reference/lexical_analysis.html#keywords).\n",
    "- Se considera una [buena práctica utilizar nombres en minúscula y con guiones bajos](https://www.python.org/dev/peps/pep-0008/#function-and-variable-names), para así mejorar la legibilidad.\n",
    "- Es importante utilizar nombres significativos para las variables, que reflejen su propósito."
   ]
  },
  {
   "cell_type": "markdown",
   "metadata": {},
   "source": [
    "## Las variables mejoran la legibilidad de los procesos"
   ]
  },
  {
   "cell_type": "code",
   "execution_count": 1,
   "metadata": {},
   "outputs": [
    {
     "name": "stdout",
     "output_type": "stream",
     "text": [
      "13000.0\n"
     ]
    }
   ],
   "source": [
    "# Cálculo del impuesto de ventas, sin variables\n",
    "print(100000 * 0.13)"
   ]
  },
  {
   "cell_type": "code",
   "execution_count": 11,
   "metadata": {},
   "outputs": [
    {
     "name": "stdout",
     "output_type": "stream",
     "text": [
      "13000.0\n"
     ]
    }
   ],
   "source": [
    "# Cálculo del impuesto de ventas, con variables\n",
    "\n",
    "# Entrada\n",
    "precio_articulo = 100000\n",
    "tasa_impuesto = 0.13\n",
    "\n",
    "# Proceso\n",
    "monto_impuesto = precio_articulo * tasa_impuesto\n",
    "\n",
    "# Salida\n",
    "print(monto_impuesto)"
   ]
  },
  {
   "cell_type": "markdown",
   "metadata": {},
   "source": [
    "# Ejercicios"
   ]
  },
  {
   "cell_type": "markdown",
   "metadata": {},
   "source": [
    "## Ejercicio 1\n",
    "Utilice variables en un programa que covierta grados Celsius a Fahrenheit. La fórmula de conversión es\n",
    "\n",
    "$$\n",
    "Fahrenheit = Celsius × 9/5 + 32 \n",
    "$$"
   ]
  },
  {
   "cell_type": "code",
   "execution_count": 12,
   "metadata": {},
   "outputs": [],
   "source": [
    "# Entrada\n",
    "\n",
    "# Proceso\n",
    "\n",
    "# Salida"
   ]
  }
 ],
 "metadata": {
  "kernelspec": {
   "display_name": "Python 3 (ipykernel)",
   "language": "python",
   "name": "python3"
  },
  "language_info": {
   "codemirror_mode": {
    "name": "ipython",
    "version": 3
   },
   "file_extension": ".py",
   "mimetype": "text/x-python",
   "name": "python",
   "nbconvert_exporter": "python",
   "pygments_lexer": "ipython3",
   "version": "3.12.3"
  }
 },
 "nbformat": 4,
 "nbformat_minor": 4
}

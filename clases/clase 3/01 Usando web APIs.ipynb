{
 "cells": [
  {
   "cell_type": "markdown",
   "metadata": {
    "id": "K1gQzEOsAoAl"
   },
   "source": [
    "# Usando Web APIs"
   ]
  },
  {
   "cell_type": "markdown",
   "metadata": {
    "id": "ezIKApn-AoAn"
   },
   "source": [
    "Una API o *Application Program Interface* permite que uno pueda \"hablar\" con algún programa. Muchos sitios web o servicios proveen una API para poder consultar información de manera automatizada.\n",
    "\n",
    "Para mapeo y análisis espacial, ser capaz de usar APIs es crítico. Por mucho tiempo, la API de Google Maps fué la más popular de la Web. Las APIs permiten que puedas consultar a los servidores web y obtener resultados sin bajar datos o realizar cómputos en tu computadora.\n",
    "\n",
    "Los casos de uso mas comunes para las APIs en análisis espacial son:\n",
    "- Obtener direcciones / ruteo\n",
    "- Optimización de rutas\n",
    "- Geocodificación\n",
    "- Bajar datos\n",
    "- Obtener datos en tiempo real\n",
    "- ...\n",
    "\n",
    "Los proveedores de tales APIs disponen de muchas maneras de implementarlas. Existen estándares tales como REST, SOAP, GraphQL, y otros. *REST* es el más popular en la web, y para las aplicaciones geoespaciales. Las APIs REST se utilizan sobre el protocolo HTTP y por tanto también se las llaman APIs web."
   ]
  },
  {
   "cell_type": "markdown",
   "metadata": {
    "id": "0pqHr4YLAoAo"
   },
   "source": [
    "## Entendiendo JSON y GeoJSON\n",
    "\n",
    "JSON es el acrónimo de JavaScript Object Notation. Es un formato para almacenar y transportar datos y es el estándar de facto para intercambio de datos en APIs. GeoJSON es una extensión de JSON que se utiliza para representar datos espaciales.\n",
    "\n",
    "Python incluye un módulo `json` que posee métodos para leer datos json y convertirlos en objetos Python y viceversa. En este ejemplo, usaremos el módulo `requests` para consultar los datos a la API,\n",
    "Python has a built-in `json` module that has methods for reading json data and converting it to Python objects, and vice-versa. In this example, we are using the `requests` module for querying the API which conveniently does the conversion for us. But it is useful to learn the basics of working with JSON in Python."
   ]
  },
  {
   "cell_type": "markdown",
   "metadata": {
    "id": "_knZrgqWAoAo"
   },
   "source": [
    "The GeoJSON data contains *features*, where each feature has some *properties* and a *geometry*."
   ]
  },
  {
   "cell_type": "code",
   "execution_count": null,
   "metadata": {
    "id": "D8upUHYQAoAp"
   },
   "outputs": [],
   "source": [
    "geojson_string = '''\n",
    "{\n",
    "  \"type\": \"FeatureCollection\",\n",
    "  \"features\": [\n",
    "    {\"type\": \"Feature\",\n",
    "      \"properties\": {\"name\": \"San Francisco\"},\n",
    "      \"geometry\": {\"type\": \"Point\", \"coordinates\": [-121.5687, 37.7739]}\n",
    "    }\n",
    "  ]\n",
    "}\n",
    "'''\n",
    "print(geojson_string)"
   ]
  },
  {
   "cell_type": "markdown",
   "metadata": {
    "id": "t2Xj4V3WAoAq"
   },
   "source": [
    "Para convertir una cadena JSON a objeto Python usamos el método `json.loads()`."
   ]
  },
  {
   "cell_type": "code",
   "execution_count": null,
   "metadata": {
    "id": "HXC7HjJdAoAq"
   },
   "outputs": [],
   "source": [
    "import json\n",
    "\n",
    "data = json.loads(geojson_string)\n",
    "print(type(data))\n",
    "print(data)"
   ]
  },
  {
   "cell_type": "markdown",
   "metadata": {
    "id": "eeo_6lKUAoAr"
   },
   "source": [
    "Ahora que hemos *parseado* la cadena de GeoJson y tenemos un objeto, podemos extraer información de él. Los datos están almacenados en una `FeatureCollection`, que es una lista de `features`."
   ]
  },
  {
   "cell_type": "markdown",
   "metadata": {
    "id": "eeo_6lKUAoAr"
   },
   "source": [
    "Now that we have *parsed* the GeoJSON string and have a Python object, we can extract infromation from it. The data is stored in a *FeatureCollection* - which is a list of *features*."
   ]
  },
  {
   "cell_type": "markdown",
   "metadata": {
    "id": "eeo_6lKUAoAr"
   },
   "source": [
    "En nuestro ejemplo, sólamente tenemos una feature, así que podemos accederla con el índice `0`."
   ]
  },
  {
   "cell_type": "code",
   "execution_count": null,
   "metadata": {
    "id": "ZJdnIfxBAoAr"
   },
   "outputs": [],
   "source": [
    "city_data = data['features'][0]\n",
    "print(city_data)"
   ]
  },
  {
   "cell_type": "markdown",
   "metadata": {
    "id": "k8J8LtpOAoAr"
   },
   "source": [
    "La representación de una feature es un diccionario, por tanto los ítems individuales se acceden por sus claves."
   ]
  },
  {
   "cell_type": "code",
   "execution_count": null,
   "metadata": {
    "id": "6aoVFF2DAoAs"
   },
   "outputs": [],
   "source": [
    "city_name = city_data['properties']['name']\n",
    "city_coordinates = city_data['geometry']['coordinates']\n",
    "print(city_name, city_coordinates)"
   ]
  },
  {
   "cell_type": "markdown",
   "metadata": {
    "id": "C-Z_WykFAoAs"
   },
   "source": [
    "## El módulo `requests`\n",
    "\n",
    "Para consultar un servidor, lo más probable es que enviemos una consulta *GET* con algunos parámetros, y el servidor nos contesta una respuesta en algún formato, usualmente JSON. El módulo `requests` permite enviar consultas y *parsear* las respuestas a través de Python.\n",
    "\n",
    "La respuesta contiene los datos recibidos del servidor. Contiene un [*código de status* HTTP](https://developer.mozilla.org/es/docs/Web/HTTP/Status) que nos indica si el pedido fué exitoso. El código \"200\" significa que todo salió OK.\n"
   ]
  },
  {
   "cell_type": "code",
   "execution_count": 5,
   "metadata": {
    "id": "-HnYrDa_AoAs"
   },
   "outputs": [
    {
     "name": "stdout",
     "output_type": "stream",
     "text": [
      "200\n"
     ]
    }
   ],
   "source": [
    "import requests\n",
    "\n",
    "response = requests.get('https://www.spatialthoughts.com')\n",
    "\n",
    "print(response.status_code)"
   ]
  },
  {
   "cell_type": "markdown",
   "metadata": {},
   "source": [
    "## Usando la API de OpenSky Network\n",
    "\n",
    "OpenSky Network es un servicio que permite obtener información de todos las aeronaves que están en vuelo a nivel global. Esta información está accesible [a través de una API](https://openskynetwork.github.io/opensky-api/index.html).\n",
    "Vamos a utilizar esta API para generar un archivo CSV con la información de las aeronaves que estén en determinado sector del globo."
   ]
  },
  {
   "cell_type": "markdown",
   "metadata": {},
   "source": [
    "Primero importamos las bibliotecas que necesitaremos."
   ]
  },
  {
   "cell_type": "code",
   "execution_count": 30,
   "metadata": {},
   "outputs": [],
   "source": [
    "import requests\n",
    "import json\n",
    "import csv\n",
    "from pathlib import Path"
   ]
  },
  {
   "cell_type": "markdown",
   "metadata": {},
   "source": [
    "Luego indicamos dónde guardaremos los datos que bajaremos. Vamos a generar un archivo en el directorio en el que está este notebook."
   ]
  },
  {
   "cell_type": "code",
   "execution_count": 31,
   "metadata": {},
   "outputs": [],
   "source": [
    "# Tomo el directorio donde se ubica el notebook\n",
    "DIRECTORY = Path('.')\n",
    "\n",
    "# Archivo donde quedan los datos en CSV\n",
    "CSV_FILENAME = DIRECTORY / Path(\"datos.csv\")\n",
    "\n",
    "# Si el nombre existe y es un archivo no es problema, porque es una versión anterior y la sobreescribiremos con datos nuevos\n",
    "if CSV_FILENAME.is_dir():\n",
    "    raise Exception(\"El nombre ya existe y es un directorio\")\n",
    "    "
   ]
  },
  {
   "cell_type": "markdown",
   "metadata": {},
   "source": [
    "Definimos área usando coordenadas. En este caso un área que abarque a sudamérica."
   ]
  },
  {
   "cell_type": "code",
   "execution_count": 32,
   "metadata": {},
   "outputs": [],
   "source": [
    "lon_max, lat_max = -33.4, 13.0\n",
    "lon_min, lat_min = -81.0, -56.0"
   ]
  },
  {
   "cell_type": "markdown",
   "metadata": {},
   "source": [
    "Generamos la URL para comunicarnos con la API. "
   ]
  },
  {
   "cell_type": "code",
   "execution_count": 33,
   "metadata": {},
   "outputs": [],
   "source": [
    "# Construcción de la query para la API REST\n",
    "\n",
    "# generamos la parte de parámetros, usamos sólamente las coordenadas\n",
    "params = urlencode(\n",
    "    {\"lamin\": lat_min, \"lomin\": lon_min, \"lamax\": lat_max, \"lomax\": lon_max}\n",
    ")\n",
    "# generamos las partes de la url\n",
    "neturl = \"https://opensky-network.org/api/states/all\"\n",
    "\n",
    "# ensamblamos todas las partes\n",
    "DATA_URL = neturl + \"?\" + params"
   ]
  },
  {
   "cell_type": "markdown",
   "metadata": {},
   "source": [
    "Definimos los nombres de las columnas que va a tener el archivo generado."
   ]
  },
  {
   "cell_type": "code",
   "execution_count": 21,
   "metadata": {},
   "outputs": [],
   "source": [
    "# Nombres de las columnas\n",
    "# ver https://openskynetwork.github.io/opensky-api/rest.html#response\n",
    "COL_NAMES = (\n",
    "    \"icao24 callsign origin_country time_position last_contact long \"\n",
    "    + \"lat baro_altitude on_ground velocity true_track vertical_rate \"\n",
    "    + \"sensors geo_altitude squawk spi position_source category\"\n",
    ").split()"
   ]
  },
  {
   "cell_type": "markdown",
   "metadata": {},
   "source": [
    "Acá es donde comenzamos a juntar todo. Vamos a definir tres funciones. Una para obtener los datos, otra para darles forma y la final para escribir todo en un archivo."
   ]
  },
  {
   "cell_type": "code",
   "execution_count": 34,
   "metadata": {},
   "outputs": [],
   "source": [
    "def get_data_as_json(url):\n",
    "    \"\"\"\n",
    "    Obtengo datos de la web de OpenSky\n",
    "    'url' contiene la query REST con los parámetros adecuados\n",
    "    Retorna un objeto con los datos recibidos\n",
    "    \"\"\"\n",
    "\n",
    "    req = requests.get(url)\n",
    "    result = req.status_code == 200 and req.json() or None\n",
    "    return result\n",
    "\n",
    "\n",
    "def format_data(data):\n",
    "    \"\"\"\n",
    "    Genero una lista de datos con encabezados.\n",
    "    Cada elemento de la lista es una línea (registro).\n",
    "    'data' proviene del json generado por la API de OpenSky\n",
    "    \"\"\"\n",
    "\n",
    "    return [COL_NAMES] + data[\"states\"]\n",
    "\n",
    "\n",
    "def save_data_as_csv(data, filename):\n",
    "    \"\"\"\n",
    "    Guarda datos en formato CSV\n",
    "    'data' es una lista\n",
    "    'filename' es un nombre de archivo válido\n",
    "    \"\"\"\n",
    "    # https://docs.python.org/3/library/csv.html#csv.writer\n",
    "    with open(filename, \"w\") as csv_file:\n",
    "        csv_writer = csv.writer(csv_file)\n",
    "        csv_writer.writerows(data)"
   ]
  },
  {
   "cell_type": "markdown",
   "metadata": {},
   "source": [
    "Finalmente una función para hacer todo el trabajo con una sola llamada."
   ]
  },
  {
   "cell_type": "code",
   "execution_count": 25,
   "metadata": {},
   "outputs": [],
   "source": [
    "# Obtiene los datos de una URL y los guarda en formato CSV en el archivo\n",
    "# indicado en filename\n",
    "def do_it(url, filename):\n",
    "    try:\n",
    "        data = get_data_as_json(url)\n",
    "        data = format_data(data)\n",
    "        save_data_as_csv(data, filename)\n",
    "        print(\"Todo OK. Archivo generado\")\n",
    "    except:\n",
    "        print(e)\n"
   ]
  },
  {
   "cell_type": "code",
   "execution_count": 28,
   "metadata": {},
   "outputs": [
    {
     "name": "stdout",
     "output_type": "stream",
     "text": [
      "Todo OK. Archivo generado\n"
     ]
    }
   ],
   "source": [
    "do_it(DATA_URL, CSV_FILENAME)"
   ]
  },
  {
   "cell_type": "markdown",
   "metadata": {},
   "source": [
    "### Ejercicios\n",
    "\n",
    "- (Fácil) Cambiar las coordenadas del área de sobre la que se filtrarán los datos.\n",
    "- (Menos fácil) Filtrar también las aeronaves por país de origen\n",
    "- (No tan fácil) Realizar los cambios necesarios para un mejor control de errores. Contemplar qué pasa si\n",
    "    * hay un problema en la red y no se reciben datos\n",
    "    * no se puede escribir el archivo\n",
    "    Imprimir mensajes claros que indiquen qué sucedió."
   ]
  }
 ],
 "metadata": {
  "colab": {
   "provenance": []
  },
  "kernelspec": {
   "display_name": "Python 3 (ipykernel)",
   "language": "python",
   "name": "python3"
  },
  "language_info": {
   "codemirror_mode": {
    "name": "ipython",
    "version": 3
   },
   "file_extension": ".py",
   "mimetype": "text/x-python",
   "name": "python",
   "nbconvert_exporter": "python",
   "pygments_lexer": "ipython3",
   "version": "3.12.3"
  }
 },
 "nbformat": 4,
 "nbformat_minor": 4
}
